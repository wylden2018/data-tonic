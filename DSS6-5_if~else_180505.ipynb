{
 "cells": [
  {
   "cell_type": "code",
   "execution_count": 2,
   "metadata": {},
   "outputs": [
    {
     "name": "stdout",
     "output_type": "stream",
     "text": [
      "짝수\n"
     ]
    }
   ],
   "source": [
    "a = 2\n",
    "if a % 2 == 0 :\n",
    "    print(\"짝수\")\n",
    "else:\n",
    "    print(\"홀수\")"
   ]
  },
  {
   "cell_type": "code",
   "execution_count": 6,
   "metadata": {},
   "outputs": [
    {
     "name": "stdout",
     "output_type": "stream",
     "text": [
      "2자리 수의 짝수이다.\n"
     ]
    }
   ],
   "source": [
    "b = 50\n",
    "if (b >= 10) & (b < 100) & (b % 2 == 0):\n",
    "    print(\"2자리 수의 짝수이다.\")\n",
    "else:\n",
    "    print(\"2자리 수의 짝수가 아니다.\")"
   ]
  },
  {
   "cell_type": "code",
   "execution_count": 16,
   "metadata": {},
   "outputs": [
    {
     "name": "stdout",
     "output_type": "stream",
     "text": [
      "윤년입니다.\n"
     ]
    }
   ],
   "source": [
    "##연습문제 2\n",
    "\n",
    "y = 2004\n",
    "if (y % 4 != 0) | (y % 100 == 0) & (y % 400 != 0) :\n",
    "    print(\"윤년이 아닙니다.\")\n",
    "else:\n",
    "    print(\"윤년입니다.\")"
   ]
  },
  {
   "cell_type": "code",
   "execution_count": 18,
   "metadata": {},
   "outputs": [
    {
     "name": "stdout",
     "output_type": "stream",
     "text": [
      "A\n"
     ]
    }
   ],
   "source": [
    "c = 8\n",
    "if c >= 8:\n",
    "    print(\"A\")\n",
    "elif c >= 5:\n",
    "    print(\"B\")\n",
    "else:\n",
    "    print(\"C\")"
   ]
  },
  {
   "cell_type": "code",
   "execution_count": 21,
   "metadata": {},
   "outputs": [
    {
     "name": "stdout",
     "output_type": "stream",
     "text": [
      "4등급\n"
     ]
    }
   ],
   "source": [
    "##연습문제 4 어떤 농장에서는 수박이 10kg이 넘으면 1등급, 그렇지 않고 7kg이 넘으면 2등급,, 그렇지 않고 4kg이 넘으면 3등급, 나머지는 4등급을 준다고 한다. 이 수박의 등급을 정하는 파이썬 코드를 작성한다.\n",
    "\n",
    "weight = 2\n",
    "if weight >= 10:\n",
    "    print(\"1등급\")\n",
    "elif weight >= 7:\n",
    "    print(\"2등급\")\n",
    "elif weight >=4:\n",
    "    print(\"3등급\")\n",
    "else:\n",
    "    print(\"4등급\")"
   ]
  },
  {
   "cell_type": "code",
   "execution_count": 26,
   "metadata": {},
   "outputs": [
    {
     "name": "stdout",
     "output_type": "stream",
     "text": [
      "fail\n"
     ]
    }
   ],
   "source": [
    "sex = \"girl\"\n",
    "pushup = 7\n",
    "if sex == \"boy\":\n",
    "    if pushup >= 10:\n",
    "        grade = \"pass\"\n",
    "    else:\n",
    "        grade = \"fail\"\n",
    "else:\n",
    "    if pushup >= 10:\n",
    "        grade = \"pass\"\n",
    "    else:\n",
    "        grade = \"fail\"\n",
    "print(grade)"
   ]
  },
  {
   "cell_type": "code",
   "execution_count": 57,
   "metadata": {},
   "outputs": [
    {
     "name": "stdout",
     "output_type": "stream",
     "text": [
      "XA의 징역기간 = 10 년\n",
      "XB( True )의 징역기간 =  1 년\n"
     ]
    }
   ],
   "source": [
    "XA = False\n",
    "XB = True\n",
    "if XA == True:\n",
    "    if XB == True:\n",
    "        YA = 5\n",
    "        YB = 5\n",
    "    else:\n",
    "        YA = 1\n",
    "        YB = 10\n",
    "else:\n",
    "    if XB == True:\n",
    "        YA = 10\n",
    "        YB = 1\n",
    "    else:\n",
    "        YA = 1\n",
    "        YB = 1\n",
    "        \n",
    "print(\"XA의 징역기간 = \", end = \"\")\n",
    "print(YA,'년')\n",
    "\n",
    "## \"XA{}징역기간 = \".format(XA) + print(YA)\n",
    "\n",
    "print(\"XB(\",XB,\")의 징역기간 = \", YB,\"년\")"
   ]
  },
  {
   "cell_type": "markdown",
   "metadata": {},
   "source": [
    "6절 파이썬 기초 문법 | 파이썬 조건문 기초\n",
    "\n",
    "2018.5.5\n",
    "\n",
    " - if ~ else 명령\n",
    " - if ~ elif ~ else 명령\n",
    " - 중첩조건문\n",
    "\n",
    "https://datascienceschool.net/view-notebook/1fa1afd6176848d7874f594dec2a7bc7/"
   ]
  }
 ],
 "metadata": {
  "kernelspec": {
   "display_name": "Python 3",
   "language": "python",
   "name": "python3"
  },
  "language_info": {
   "codemirror_mode": {
    "name": "ipython",
    "version": 3
   },
   "file_extension": ".py",
   "mimetype": "text/x-python",
   "name": "python",
   "nbconvert_exporter": "python",
   "pygments_lexer": "ipython3",
   "version": "3.6.4"
  }
 },
 "nbformat": 4,
 "nbformat_minor": 2
}
