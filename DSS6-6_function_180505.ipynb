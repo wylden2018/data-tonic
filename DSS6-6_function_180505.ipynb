{
 "cells": [
  {
   "cell_type": "code",
   "execution_count": 59,
   "metadata": {},
   "outputs": [
    {
     "ename": "SyntaxError",
     "evalue": "can't assign to function call (<ipython-input-59-7827ea9bf812>, line 1)",
     "output_type": "error",
     "traceback": [
      "\u001b[0;36m  File \u001b[0;32m\"<ipython-input-59-7827ea9bf812>\"\u001b[0;36m, line \u001b[0;32m1\u001b[0m\n\u001b[0;31m    f(500) = \"생수\"\u001b[0m\n\u001b[0m                 ^\u001b[0m\n\u001b[0;31mSyntaxError\u001b[0m\u001b[0;31m:\u001b[0m can't assign to function call\n"
     ]
    }
   ],
   "source": [
    "f(500) = \"생수\"\n",
    "f(1000) = \"콜라\""
   ]
  },
  {
   "cell_type": "code",
   "execution_count": 60,
   "metadata": {},
   "outputs": [],
   "source": [
    "def twotimes(x):\n",
    "    y =  2 * x\n",
    "    return y"
   ]
  },
  {
   "cell_type": "code",
   "execution_count": 61,
   "metadata": {},
   "outputs": [
    {
     "data": {
      "text/plain": [
       "4"
      ]
     },
     "execution_count": 61,
     "metadata": {},
     "output_type": "execute_result"
    }
   ],
   "source": [
    "twotimes(2)"
   ]
  },
  {
   "cell_type": "code",
   "execution_count": 62,
   "metadata": {},
   "outputs": [
    {
     "data": {
      "text/plain": [
       "9"
      ]
     },
     "execution_count": 62,
     "metadata": {},
     "output_type": "execute_result"
    }
   ],
   "source": [
    "def threetimes(x):\n",
    "    y = 3 * x\n",
    "    return y\n",
    "threetimes(3)"
   ]
  },
  {
   "cell_type": "code",
   "execution_count": 63,
   "metadata": {},
   "outputs": [
    {
     "data": {
      "text/plain": [
       "20"
      ]
     },
     "execution_count": 63,
     "metadata": {},
     "output_type": "execute_result"
    }
   ],
   "source": [
    "twotimes(10)"
   ]
  },
  {
   "cell_type": "code",
   "execution_count": 65,
   "metadata": {},
   "outputs": [
    {
     "name": "stdout",
     "output_type": "stream",
     "text": [
      "홀수\n"
     ]
    }
   ],
   "source": [
    "##연습문제1-1) 짝수가 입력되면 \"짝수\"라는 문자열을, \n",
    "##홀수가 입력되면 \"홀수\"라는 문자열을 반환하는 함수를 만든다\n",
    "\n",
    "def evenodd(x):\n",
    "    if x % 2 == 0:\n",
    "        print(\"짝수\")\n",
    "    else:\n",
    "        print(\"홀수\")\n",
    "evenodd(9)"
   ]
  },
  {
   "cell_type": "code",
   "execution_count": 135,
   "metadata": {},
   "outputs": [
    {
     "name": "stdout",
     "output_type": "stream",
     "text": [
      "True\n"
     ]
    }
   ],
   "source": [
    "##연습문제1-2) 윤년을 나타나는 수가 입력되면 \"윤년\"이라는 문자열을, \n",
    "## 그렇지 않은 수가 입력되면 \"평년\"이라는 문자열을 반환하는 함수를 만든다.\n",
    "\n",
    "# def leapyear(x):\n",
    "#     if (x % 4 != 0 or x % 100 == 0) and (x % 400 != 0):\n",
    "#         print(\"평년\")\n",
    "#     else:\n",
    "#         print(\"윤년\")\n",
    "# leapyear(2008)\n",
    "\n",
    "#---------\n",
    "def is_leap_year(year):\n",
    "    if (year % 4 != 0 or year % 100 == 0) and (year % 400 != 0):\n",
    "        return False\n",
    "    else:\n",
    "        return True\n",
    "        \n",
    "        \n",
    "print(is_leap_year(2008))\n",
    "    "
   ]
  },
  {
   "cell_type": "code",
   "execution_count": 124,
   "metadata": {},
   "outputs": [
    {
     "name": "stdout",
     "output_type": "stream",
     "text": [
      "return value:  -1\n"
     ]
    }
   ],
   "source": [
    "#연습문제 2\n",
    "##평년일 때 1, 3, 5, 7, 8, 10, 12 월은 31일, \n",
    "##4, 6, 9, 11월은 30일, 2월은 28일이다. \n",
    "##월을 나타내는 숫자를 입력하면 그 달의 날짜 수를 반환하는 함수 days를 만든다. \n",
    "##사용 예는 다음과 같다.\n",
    "###>>> days1(11)\n",
    "###30\n",
    "\n",
    "def days1(x):\n",
    "    if (x <= 7) & (x % 2 != 0) | (12 >= x >= 8) & (x % 2 == 0):\n",
    "        # print(\"This month has \", 31, \"days\")\n",
    "        return 31\n",
    "    elif (x == 4) | (x == 6) | (x == 9) | (x == 11):\n",
    "        # print(\"This month has \", 30, \"days\")\n",
    "        return 30\n",
    "    elif (x == 2):\n",
    "        # print(\"This month has \", 28, \"days\")\n",
    "        return 28\n",
    "    else:\n",
    "        # print(\"Wrong entered month!\")\n",
    "        return -1\n",
    "\n",
    "print('return value: ', days1(9999))"
   ]
  },
  {
   "cell_type": "code",
   "execution_count": 130,
   "metadata": {},
   "outputs": [],
   "source": [
    "def daysOfMonth(month):\n",
    "    \"\"\"\n",
    "    Returns the days of input month.\n",
    "    \"\"\"\n",
    "    if (month <= 7) & (month % 2 != 0) | (12 >= month >= 8) & (month % 2 == 0):\n",
    "        return 31\n",
    "    elif (month == 4) | (month == 6) | (month == 9) | (month == 11):\n",
    "        return 30\n",
    "    elif (month == 2):\n",
    "        return 28\n",
    "    else:\n",
    "        return -1\n",
    "        "
   ]
  },
  {
   "cell_type": "code",
   "execution_count": 98,
   "metadata": {},
   "outputs": [
    {
     "data": {
      "text/plain": [
       "3"
      ]
     },
     "execution_count": 98,
     "metadata": {},
     "output_type": "execute_result"
    }
   ],
   "source": [
    "def add(x, y):\n",
    "    return x + y\n",
    "add(1, 2)"
   ]
  },
  {
   "cell_type": "code",
   "execution_count": 99,
   "metadata": {},
   "outputs": [
    {
     "data": {
      "text/plain": [
       "6"
      ]
     },
     "execution_count": 99,
     "metadata": {},
     "output_type": "execute_result"
    }
   ],
   "source": [
    "def sum(a,b,c):\n",
    "    s = a + b + c\n",
    "    return s\n",
    "sum(1,2,3)"
   ]
  },
  {
   "cell_type": "code",
   "execution_count": 150,
   "metadata": {},
   "outputs": [
    {
     "name": "stdout",
     "output_type": "stream",
     "text": [
      "29\n",
      "30\n"
     ]
    }
   ],
   "source": [
    "from multipledispatch import dispatch\n",
    "\n",
    "@dispatch(int)\n",
    "def daysOfMonth(month):\n",
    "    \"\"\"\n",
    "    Returns the days of input month.\n",
    "    \"\"\"\n",
    "    if (month <= 7) & (month % 2 != 0) | (12 >= month >= 8) & (month % 2 == 0):\n",
    "        return 31\n",
    "    elif (month == 4) | (month == 6) | (month == 9) | (month == 11):\n",
    "        return 30\n",
    "    elif (month == 2):\n",
    "        return 28\n",
    "    else:\n",
    "        return -1\n",
    "\n",
    "@dispatch(int, int)\n",
    "def daysOfMonth(year, month):\n",
    "    leapyear = is_leap_year(year)\n",
    "    if leapyear and month == 2:\n",
    "        return 29\n",
    "    else:\n",
    "        return daysOfMonth(month)\n",
    "\n",
    "print(daysOfMonth(2016, 2))\n",
    "print(daysOfMonth(2013, 11))"
   ]
  },
  {
   "cell_type": "code",
   "execution_count": 149,
   "metadata": {},
   "outputs": [
    {
     "data": {
      "text/plain": [
       "20"
      ]
     },
     "execution_count": 149,
     "metadata": {},
     "output_type": "execute_result"
    }
   ],
   "source": [
    "from multipledispatch import dispatch\n",
    "\n",
    "@dispatch(int)\n",
    "def func(x):\n",
    "    return x\n",
    "\n",
    "@dispatch(int, int)\n",
    "def func(x, y):\n",
    "    return x\n",
    "\n",
    "func(20, 10)\n"
   ]
  },
  {
   "cell_type": "code",
   "execution_count": 151,
   "metadata": {},
   "outputs": [
    {
     "name": "stdout",
     "output_type": "stream",
     "text": [
      "29\n",
      "30\n"
     ]
    }
   ],
   "source": [
    "def days_month(month):\n",
    "    \"\"\"\n",
    "    Returns the days of input month.\n",
    "    \"\"\"\n",
    "    if (month <= 7) & (month % 2 != 0) | (12 >= month >= 8) & (month % 2 == 0):\n",
    "        return 31\n",
    "    elif (month == 4) | (month == 6) | (month == 9) | (month == 11):\n",
    "        return 30\n",
    "    elif (month == 2):\n",
    "        return 28\n",
    "    else:\n",
    "        return -1\n",
    "\n",
    "def days_month_year(year, month):\n",
    "    leapyear = is_leap_year(year)\n",
    "    if leapyear and month == 2:\n",
    "        return 29\n",
    "    else:\n",
    "        return daysOfMonth(month)\n",
    "\n",
    "print(days_month_year(2016, 2))\n",
    "print(days_month_year(2013, 11))"
   ]
  },
  {
   "cell_type": "code",
   "execution_count": 1,
   "metadata": {},
   "outputs": [],
   "source": [
    "# 람다 함수\n",
    "\n",
    "def f(x):\n",
    "    return 2 * x"
   ]
  },
  {
   "cell_type": "code",
   "execution_count": 2,
   "metadata": {},
   "outputs": [],
   "source": [
    "f = lambda x: 2 * x"
   ]
  },
  {
   "cell_type": "code",
   "execution_count": 3,
   "metadata": {},
   "outputs": [
    {
     "data": {
      "text/plain": [
       "4"
      ]
     },
     "execution_count": 3,
     "metadata": {},
     "output_type": "execute_result"
    }
   ],
   "source": [
    "f(2)"
   ]
  },
  {
   "cell_type": "code",
   "execution_count": 4,
   "metadata": {},
   "outputs": [
    {
     "data": {
      "text/plain": [
       "9"
      ]
     },
     "execution_count": 4,
     "metadata": {},
     "output_type": "execute_result"
    }
   ],
   "source": [
    "f = lambda x: 3 * x\n",
    "f(3)"
   ]
  },
  {
   "cell_type": "code",
   "execution_count": 5,
   "metadata": {},
   "outputs": [
    {
     "data": {
      "text/plain": [
       "12"
      ]
     },
     "execution_count": 5,
     "metadata": {},
     "output_type": "execute_result"
    }
   ],
   "source": [
    "f = lambda x: 2 * (5 + x)\n",
    "f(1)"
   ]
  },
  {
   "cell_type": "code",
   "execution_count": 7,
   "metadata": {},
   "outputs": [
    {
     "ename": "NameError",
     "evalue": "name 'y' is not defined",
     "output_type": "error",
     "traceback": [
      "\u001b[0;31m---------------------------------------------------------------------------\u001b[0m",
      "\u001b[0;31mNameError\u001b[0m                                 Traceback (most recent call last)",
      "\u001b[0;32m<ipython-input-7-aa8f3401fc42>\u001b[0m in \u001b[0;36m<module>\u001b[0;34m()\u001b[0m\n\u001b[0;32m----> 1\u001b[0;31m \u001b[0;32mdel\u001b[0m \u001b[0my\u001b[0m\u001b[0;34m\u001b[0m\u001b[0m\n\u001b[0m",
      "\u001b[0;31mNameError\u001b[0m: name 'y' is not defined"
     ]
    }
   ],
   "source": [
    "# 지역 변수\n",
    "\n",
    "del y"
   ]
  },
  {
   "cell_type": "code",
   "execution_count": 15,
   "metadata": {},
   "outputs": [
    {
     "name": "stdout",
     "output_type": "stream",
     "text": [
      "y =  100\n"
     ]
    },
    {
     "data": {
      "text/plain": [
       "100"
      ]
     },
     "execution_count": 15,
     "metadata": {},
     "output_type": "execute_result"
    }
   ],
   "source": [
    "def f(x):\n",
    "    y = 10 * x\n",
    "    print(\"y = \", y)\n",
    "    return y\n",
    "\n",
    "# f = lambda x: 10 * x\n",
    "# print(\"y = \", f(10))\n",
    "f(10)"
   ]
  },
  {
   "cell_type": "code",
   "execution_count": 16,
   "metadata": {},
   "outputs": [
    {
     "ename": "NameError",
     "evalue": "name 'y' is not defined",
     "output_type": "error",
     "traceback": [
      "\u001b[0;31m---------------------------------------------------------------------------\u001b[0m",
      "\u001b[0;31mNameError\u001b[0m                                 Traceback (most recent call last)",
      "\u001b[0;32m<ipython-input-16-9063a9f0e032>\u001b[0m in \u001b[0;36m<module>\u001b[0;34m()\u001b[0m\n\u001b[0;32m----> 1\u001b[0;31m \u001b[0my\u001b[0m\u001b[0;34m\u001b[0m\u001b[0m\n\u001b[0m",
      "\u001b[0;31mNameError\u001b[0m: name 'y' is not defined"
     ]
    }
   ],
   "source": [
    "y\n",
    "\n",
    "# 함수에 넣은 입력 변수나 함수 안에서 만들어진 변수는 함수 바깥에서는 사용할 수 없다. 혹시 이름이 같은 변수가 있다고 하더라도 별개의 변수가 된다.\n",
    "# 따라서 함수 안에서 만들어지고 사용되는 함수를 지역 변수, 영어로 local variable 이라고 한다."
   ]
  },
  {
   "cell_type": "code",
   "execution_count": 17,
   "metadata": {},
   "outputs": [],
   "source": [
    "y = 1000"
   ]
  },
  {
   "cell_type": "code",
   "execution_count": 18,
   "metadata": {},
   "outputs": [
    {
     "data": {
      "text/plain": [
       "1000"
      ]
     },
     "execution_count": 18,
     "metadata": {},
     "output_type": "execute_result"
    }
   ],
   "source": [
    "y"
   ]
  },
  {
   "cell_type": "code",
   "execution_count": 19,
   "metadata": {},
   "outputs": [],
   "source": [
    "del y"
   ]
  },
  {
   "cell_type": "code",
   "execution_count": 20,
   "metadata": {},
   "outputs": [
    {
     "ename": "NameError",
     "evalue": "name 'y' is not defined",
     "output_type": "error",
     "traceback": [
      "\u001b[0;31m---------------------------------------------------------------------------\u001b[0m",
      "\u001b[0;31mNameError\u001b[0m                                 Traceback (most recent call last)",
      "\u001b[0;32m<ipython-input-20-9063a9f0e032>\u001b[0m in \u001b[0;36m<module>\u001b[0;34m()\u001b[0m\n\u001b[0;32m----> 1\u001b[0;31m \u001b[0my\u001b[0m\u001b[0;34m\u001b[0m\u001b[0m\n\u001b[0m",
      "\u001b[0;31mNameError\u001b[0m: name 'y' is not defined"
     ]
    }
   ],
   "source": [
    "y"
   ]
  },
  {
   "cell_type": "code",
   "execution_count": 23,
   "metadata": {},
   "outputs": [],
   "source": [
    "def f(x):\n",
    "    y = 10 * x\n",
    "    print(\"y = \", y)\n",
    "    return y"
   ]
  },
  {
   "cell_type": "code",
   "execution_count": 25,
   "metadata": {},
   "outputs": [
    {
     "name": "stdout",
     "output_type": "stream",
     "text": [
      "y =  100\n"
     ]
    },
    {
     "data": {
      "text/plain": [
       "100"
      ]
     },
     "execution_count": 25,
     "metadata": {},
     "output_type": "execute_result"
    }
   ],
   "source": [
    "f(10)"
   ]
  },
  {
   "cell_type": "code",
   "execution_count": 26,
   "metadata": {},
   "outputs": [],
   "source": [
    "y = 100"
   ]
  },
  {
   "cell_type": "code",
   "execution_count": 27,
   "metadata": {},
   "outputs": [
    {
     "data": {
      "text/plain": [
       "100"
      ]
     },
     "execution_count": 27,
     "metadata": {},
     "output_type": "execute_result"
    }
   ],
   "source": [
    "y"
   ]
  },
  {
   "cell_type": "code",
   "execution_count": 28,
   "metadata": {},
   "outputs": [
    {
     "name": "stdout",
     "output_type": "stream",
     "text": [
      "y =  10\n"
     ]
    },
    {
     "data": {
      "text/plain": [
       "10"
      ]
     },
     "execution_count": 28,
     "metadata": {},
     "output_type": "execute_result"
    }
   ],
   "source": [
    "f(1)"
   ]
  },
  {
   "cell_type": "code",
   "execution_count": 29,
   "metadata": {},
   "outputs": [
    {
     "data": {
      "text/plain": [
       "100"
      ]
     },
     "execution_count": 29,
     "metadata": {},
     "output_type": "execute_result"
    }
   ],
   "source": [
    "y"
   ]
  },
  {
   "cell_type": "code",
   "execution_count": 30,
   "metadata": {},
   "outputs": [],
   "source": [
    "n1 = input()"
   ]
  },
  {
   "cell_type": "code",
   "execution_count": 69,
   "metadata": {},
   "outputs": [
    {
     "name": "stdout",
     "output_type": "stream",
     "text": [
      "general_sum =  55 ,  square_sum =  385\n"
     ]
    },
    {
     "data": {
      "text/plain": [
       "330"
      ]
     },
     "execution_count": 69,
     "metadata": {},
     "output_type": "execute_result"
    }
   ],
   "source": [
    "# exercise 4 \n",
    "# 10개의 숫자를 입력하면 \"그 숫자들의 합\"과 \n",
    "# \"그 숫자들을 제곱한 숫자들의 합\"의 차이(큰 수에서 작을 수를 뺀 값)를 \n",
    "# 계산하는 함수 diffsum를 만든다. \n",
    "# 큰 수에서 작은 수를 뺀 결과이므로 항상 0보다 크거나 0과 같아야 한다.\n",
    "\n",
    "def diffsum(n1, n2, n3, n4, n5, n6, n7, n8, n9, n10):\n",
    "    general_sum = n1 + n2 + n3 + n4 + n5 + n6 + n7 + n8 + n9 + n10\n",
    "    square_sum = n1 **2 + n2 **2 + n3 **2 + n4 **2 + n5 **2 + n6 **2 + n7 **2 + n8 **2 + n9 **2 + n10 **2\n",
    "    print(\"general_sum = \", general_sum, \", \", \"square_sum = \", square_sum)\n",
    "    if general_sum >= square_sum:\n",
    "        bigger = general_sum - square_sum\n",
    "#         gen_bigger = general_sum - square_sum\n",
    "#         return gen_bigger\n",
    "    else:\n",
    "        bigger = square_sum - general_sum\n",
    "#         sq_bigger = square_sum - general_sum\n",
    "#         return sq_bigger\n",
    "    return bigger\n",
    "    \n",
    "diffsum(1, 2, 3, 4, 5, 6, 7, 8, 9, 10)\n",
    "# diffsum(1, 1, 1, 1, 1, 1, 1, 1, 1, 1)\n",
    "# diffsum(0, 1, 1, 1, 1, 1, 1, 1, 1, 1)"
   ]
  },
  {
   "cell_type": "code",
   "execution_count": 53,
   "metadata": {},
   "outputs": [],
   "source": [
    "# 전역 변수\n",
    "# 유의사항 : 함수 안에서는 함수 바깥에 있는 변수의 값을 바꿀 수 없다.\n",
    "z = 3\n",
    "\n",
    "def f2(x):\n",
    "    y = z * x\n",
    "    print(\"y = \", y)\n",
    "    print(\"z = \", z)\n",
    "    return y"
   ]
  },
  {
   "cell_type": "code",
   "execution_count": 54,
   "metadata": {},
   "outputs": [
    {
     "name": "stdout",
     "output_type": "stream",
     "text": [
      "y =  30\n",
      "z =  3\n"
     ]
    },
    {
     "data": {
      "text/plain": [
       "30"
      ]
     },
     "execution_count": 54,
     "metadata": {},
     "output_type": "execute_result"
    }
   ],
   "source": [
    "f2(10)"
   ]
  },
  {
   "cell_type": "code",
   "execution_count": 55,
   "metadata": {},
   "outputs": [
    {
     "data": {
      "text/plain": [
       "3"
      ]
     },
     "execution_count": 55,
     "metadata": {},
     "output_type": "execute_result"
    }
   ],
   "source": [
    "z"
   ]
  },
  {
   "cell_type": "code",
   "execution_count": 56,
   "metadata": {},
   "outputs": [],
   "source": [
    "z = 3\n",
    "\n",
    "def f3(x):\n",
    "    z = 99\n",
    "    y = z * x\n",
    "    print(\"y = \", y)\n",
    "    print(\"z = \", z)\n",
    "    return y"
   ]
  },
  {
   "cell_type": "code",
   "execution_count": 57,
   "metadata": {},
   "outputs": [
    {
     "name": "stdout",
     "output_type": "stream",
     "text": [
      "y =  990\n",
      "z =  99\n"
     ]
    },
    {
     "data": {
      "text/plain": [
       "990"
      ]
     },
     "execution_count": 57,
     "metadata": {},
     "output_type": "execute_result"
    }
   ],
   "source": [
    "f3(10)"
   ]
  },
  {
   "cell_type": "code",
   "execution_count": 58,
   "metadata": {},
   "outputs": [
    {
     "data": {
      "text/plain": [
       "3"
      ]
     },
     "execution_count": 58,
     "metadata": {},
     "output_type": "execute_result"
    }
   ],
   "source": [
    "z"
   ]
  },
  {
   "cell_type": "code",
   "execution_count": 60,
   "metadata": {},
   "outputs": [
    {
     "name": "stdout",
     "output_type": "stream",
     "text": [
      "y =  990\n",
      "z =  99\n"
     ]
    },
    {
     "data": {
      "text/plain": [
       "990"
      ]
     },
     "execution_count": 60,
     "metadata": {},
     "output_type": "execute_result"
    }
   ],
   "source": [
    "# Outer Paramater Modification\n",
    "\n",
    "z = 3\n",
    "\n",
    "def f4(x):\n",
    "    global z\n",
    "    z = 99\n",
    "    y = z * x\n",
    "    print(\"y = \", y)\n",
    "    print(\"z = \", z)\n",
    "    return y\n",
    "\n",
    "f4(10)"
   ]
  },
  {
   "cell_type": "code",
   "execution_count": 61,
   "metadata": {},
   "outputs": [
    {
     "data": {
      "text/plain": [
       "99"
      ]
     },
     "execution_count": 61,
     "metadata": {},
     "output_type": "execute_result"
    }
   ],
   "source": [
    "z"
   ]
  },
  {
   "cell_type": "code",
   "execution_count": 82,
   "metadata": {},
   "outputs": [],
   "source": [
    "# exercise 5\n",
    "# 함수 바깥에 m 이라는 전역 변수를 만들고 그 값을 0으로 놓는다.\n",
    "# 앞에서 만든 diffsum 함수를 고쳐서 diffsum 함수와 같은 값을 반환하지만\n",
    "# 함수를 실행할 때 마다 diffsum 함수에서 계산된 값이 원래 있던 m보다 크면\n",
    "# m을 계산된 값으로 바꾸는 함수 diffsum2 를 만든다.\n",
    "\n",
    "m = 0\n",
    "\n",
    "def diffsum(n1, n2, n3, n4, n5, n6, n7, n8, n9, n10):\n",
    "    general_sum = n1 + n2 + n3 + n4 + n5 + n6 + n7 + n8 + n9 + n10\n",
    "    square_sum = n1 **2 + n2 **2 + n3 **2 + n4 **2 + n5 **2 + n6 **2 + n7 **2 + n8 **2 + n9 **2 + n10 **2\n",
    "    if general_sum >= square_sum:\n",
    "        bigger = general_sum - square_sum\n",
    "    else:\n",
    "        bigger = square_sum - general_sum\n",
    "    return bigger\n",
    "\n",
    "def diffsum2(x):\n",
    "    global m\n",
    "    x = bigger\n",
    "    if bigger > m:\n",
    "        m = bigger\n",
    "        print(\"m = \", m)\n",
    "        return m\n",
    "    else:\n",
    "        return m"
   ]
  },
  {
   "cell_type": "code",
   "execution_count": 83,
   "metadata": {},
   "outputs": [
    {
     "name": "stdout",
     "output_type": "stream",
     "text": [
      "<function diffsum2 at 0x10d5f59d8>\n"
     ]
    }
   ],
   "source": [
    "diffsum(1, 2, 3, 4, 5, 6, 7, 8, 9, 10)\n",
    "print(diffsum2)\n",
    "\n",
    "## 물어볼 것 to Mitchell"
   ]
  },
  {
   "cell_type": "code",
   "execution_count": null,
   "metadata": {},
   "outputs": [],
   "source": []
  }
 ],
 "metadata": {
  "kernelspec": {
   "display_name": "Python 3",
   "language": "python",
   "name": "python3"
  },
  "language_info": {
   "codemirror_mode": {
    "name": "ipython",
    "version": 3
   },
   "file_extension": ".py",
   "mimetype": "text/x-python",
   "name": "python",
   "nbconvert_exporter": "python",
   "pygments_lexer": "ipython3",
   "version": "3.6.4"
  }
 },
 "nbformat": 4,
 "nbformat_minor": 2
}
